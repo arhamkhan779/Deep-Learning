{
 "cells": [
  {
   "cell_type": "markdown",
   "metadata": {},
   "source": [
    "# Using Convolutional Neural Network | Classify Cifar10 Dataset"
   ]
  },
  {
   "cell_type": "markdown",
   "metadata": {},
   "source": [
    "## Importing Necessory Modules"
   ]
  },
  {
   "cell_type": "code",
   "execution_count": 18,
   "metadata": {
    "id": "gk3GoTcViN8i"
   },
   "outputs": [],
   "source": [
    "import tensorflow as tf\n",
    "import matplotlib.pyplot as plt\n",
    "import numpy as np\n",
    "from tensorflow import keras\n",
    "import seaborn as sb"
   ]
  },
  {
   "cell_type": "markdown",
   "metadata": {},
   "source": [
    "## Downloading Dataset"
   ]
  },
  {
   "cell_type": "code",
   "execution_count": 2,
   "metadata": {
    "colab": {
     "base_uri": "https://localhost:8080/"
    },
    "id": "AvRs01wTgs38",
    "outputId": "fb60cf0b-1bcc-4723-eff3-da7c7974e3ae"
   },
   "outputs": [
    {
     "name": "stdout",
     "output_type": "stream",
     "text": [
      "Downloading data from https://www.cs.toronto.edu/~kriz/cifar-10-python.tar.gz\n",
      "170498071/170498071 [==============================] - 5s 0us/step\n"
     ]
    }
   ],
   "source": [
    "(x_train,y_train),(x_test,y_test)=keras.datasets.cifar10.load_data()"
   ]
  },
  {
   "cell_type": "markdown",
   "metadata": {},
   "source": [
    "## Know the shape of dataset"
   ]
  },
  {
   "cell_type": "code",
   "execution_count": 3,
   "metadata": {
    "colab": {
     "base_uri": "https://localhost:8080/"
    },
    "id": "p-WOch5mhy16",
    "outputId": "4cf77712-cb2b-42b7-c874-e145b0db25a8"
   },
   "outputs": [
    {
     "data": {
      "text/plain": [
       "((50000, 32, 32, 3), (10000, 32, 32, 3), (50000, 1), (10000, 1))"
      ]
     },
     "execution_count": 3,
     "metadata": {},
     "output_type": "execute_result"
    }
   ],
   "source": [
    "x_train.shape,x_test.shape,y_train.shape,y_test.shape"
   ]
  },
  {
   "cell_type": "markdown",
   "metadata": {},
   "source": [
    "## Reshaping the datset "
   ]
  },
  {
   "cell_type": "code",
   "execution_count": 4,
   "metadata": {
    "id": "DCJOOXiMh3Hh"
   },
   "outputs": [],
   "source": [
    "classes=['aeroplane','automobile','bird','cat','deer','dog','frog','horse','ship','truck']\n",
    "y_train=y_train.reshape(-1,)\n",
    "y_test=y_test.reshape(-1,)"
   ]
  },
  {
   "cell_type": "markdown",
   "metadata": {},
   "source": [
    "## Plotting some of the pictures"
   ]
  },
  {
   "cell_type": "code",
   "execution_count": 5,
   "metadata": {
    "id": "Lkqp07LciAvL"
   },
   "outputs": [],
   "source": [
    "def plot_pic(x,y,index):\n",
    "  plt.figure(figsize=(15,2))\n",
    "  plt.imshow(x[index])\n",
    "  plt.xlabel(classes[y[index]])"
   ]
  },
  {
   "cell_type": "code",
   "execution_count": 6,
   "metadata": {
    "colab": {
     "base_uri": "https://localhost:8080/",
     "height": 237
    },
    "id": "q8tSvlQjjt39",
    "outputId": "b90779c0-7aad-4aa7-d8e9-cec408bccf73"
   },
   "outputs": [
    {
     "data": {
      "image/png": "[encoded data removed]",
      "text/plain": [
       "<Figure size 1500x200 with 1 Axes>"
      ]
     },
     "metadata": {},
     "output_type": "display_data"
    }
   ],
   "source": [
    "plot_pic(x_test,y_test,4)"
   ]
  },
  {
   "cell_type": "markdown",
   "metadata": {},
   "source": [
    "## Scaling the images"
   ]
  },
  {
   "cell_type": "code",
   "execution_count": 7,
   "metadata": {
    "id": "1o_rEGhAr2rZ"
   },
   "outputs": [],
   "source": [
    "x_train_scaled=x_train/255\n",
    "x_test_scaled=x_test/255"
   ]
  },
  {
   "cell_type": "markdown",
   "metadata": {},
   "source": [
    "## At first I use artificial neural network to classify the images and i got 91 percent accuracy on training dataset , But the problem is when I test this on test dataset i get horrible result of accuracy 45 percent , and precision , recall and F1 very low , that's the reason I use CNN for classification"
   ]
  },
  {
   "cell_type": "code",
   "execution_count": 8,
   "metadata": {
    "colab": {
     "base_uri": "https://localhost:8080/"
    },
    "id": "eGltuYWGxY9z",
    "outputId": "1a54f407-27b6-4306-ccdc-54471ee253a3"
   },
   "outputs": [
    {
     "name": "stdout",
     "output_type": "stream",
     "text": [
      "Epoch 1/50\n",
      "1563/1563 [==============================] - 9s 5ms/step - loss: 1.8106 - accuracy: 0.3543\n",
      "Epoch 2/50\n",
      "1563/1563 [==============================] - 7s 4ms/step - loss: 1.6225 - accuracy: 0.4278\n",
      "Epoch 3/50\n",
      "1563/1563 [==============================] - 7s 4ms/step - loss: 1.5415 - accuracy: 0.4572\n",
      "Epoch 4/50\n",
      "1563/1563 [==============================] - 7s 5ms/step - loss: 1.4801 - accuracy: 0.4789\n",
      "Epoch 5/50\n",
      "1563/1563 [==============================] - 7s 4ms/step - loss: 1.4307 - accuracy: 0.4968\n",
      "Epoch 6/50\n",
      "1563/1563 [==============================] - 7s 5ms/step - loss: 1.3881 - accuracy: 0.5122\n",
      "Epoch 7/50\n",
      "1563/1563 [==============================] - 7s 4ms/step - loss: 1.3502 - accuracy: 0.5272\n",
      "Epoch 8/50\n",
      "1563/1563 [==============================] - 8s 5ms/step - loss: 1.3172 - accuracy: 0.5366\n",
      "Epoch 9/50\n",
      "1563/1563 [==============================] - 10s 7ms/step - loss: 1.2836 - accuracy: 0.5504\n",
      "Epoch 10/50\n",
      "1563/1563 [==============================] - 7s 4ms/step - loss: 1.2526 - accuracy: 0.5611\n",
      "Epoch 11/50\n",
      "1563/1563 [==============================] - 7s 5ms/step - loss: 1.2235 - accuracy: 0.5704\n",
      "Epoch 12/50\n",
      "1563/1563 [==============================] - 7s 4ms/step - loss: 1.1927 - accuracy: 0.5831\n",
      "Epoch 13/50\n",
      "1563/1563 [==============================] - 7s 5ms/step - loss: 1.1675 - accuracy: 0.5907\n",
      "Epoch 14/50\n",
      "1563/1563 [==============================] - 7s 5ms/step - loss: 1.1383 - accuracy: 0.6011\n",
      "Epoch 15/50\n",
      "1563/1563 [==============================] - 7s 4ms/step - loss: 1.1118 - accuracy: 0.6123\n",
      "Epoch 16/50\n",
      "1563/1563 [==============================] - 7s 5ms/step - loss: 1.0864 - accuracy: 0.6204\n",
      "Epoch 17/50\n",
      "1563/1563 [==============================] - 7s 4ms/step - loss: 1.0599 - accuracy: 0.6301\n",
      "Epoch 18/50\n",
      "1563/1563 [==============================] - 7s 5ms/step - loss: 1.0352 - accuracy: 0.6384\n",
      "Epoch 19/50\n",
      "1563/1563 [==============================] - 7s 5ms/step - loss: 1.0074 - accuracy: 0.6481\n",
      "Epoch 20/50\n",
      "1563/1563 [==============================] - 7s 5ms/step - loss: 0.9811 - accuracy: 0.6574\n",
      "Epoch 21/50\n",
      "1563/1563 [==============================] - 7s 5ms/step - loss: 0.9562 - accuracy: 0.6684\n",
      "Epoch 22/50\n",
      "1563/1563 [==============================] - 7s 4ms/step - loss: 0.9314 - accuracy: 0.6780\n",
      "Epoch 23/50\n",
      "1563/1563 [==============================] - 9s 6ms/step - loss: 0.9047 - accuracy: 0.6883\n",
      "Epoch 24/50\n",
      "1563/1563 [==============================] - 7s 4ms/step - loss: 0.8804 - accuracy: 0.6949\n",
      "Epoch 25/50\n",
      "1563/1563 [==============================] - 7s 5ms/step - loss: 0.8555 - accuracy: 0.7049\n",
      "Epoch 26/50\n",
      "1563/1563 [==============================] - 7s 4ms/step - loss: 0.8304 - accuracy: 0.7124\n",
      "Epoch 27/50\n",
      "1563/1563 [==============================] - 7s 5ms/step - loss: 0.8050 - accuracy: 0.7221\n",
      "Epoch 28/50\n",
      "1563/1563 [==============================] - 7s 5ms/step - loss: 0.7806 - accuracy: 0.7327\n",
      "Epoch 29/50\n",
      "1563/1563 [==============================] - 7s 4ms/step - loss: 0.7528 - accuracy: 0.7448\n",
      "Epoch 30/50\n",
      "1563/1563 [==============================] - 8s 5ms/step - loss: 0.7283 - accuracy: 0.7486\n",
      "Epoch 31/50\n",
      "1563/1563 [==============================] - 7s 4ms/step - loss: 0.7043 - accuracy: 0.7608\n",
      "Epoch 32/50\n",
      "1563/1563 [==============================] - 7s 5ms/step - loss: 0.6797 - accuracy: 0.7692\n",
      "Epoch 33/50\n",
      "1563/1563 [==============================] - 7s 4ms/step - loss: 0.6559 - accuracy: 0.7783\n",
      "Epoch 34/50\n",
      "1563/1563 [==============================] - 7s 5ms/step - loss: 0.6345 - accuracy: 0.7838\n",
      "Epoch 35/50\n",
      "1563/1563 [==============================] - 7s 5ms/step - loss: 0.6075 - accuracy: 0.7962\n",
      "Epoch 36/50\n",
      "1563/1563 [==============================] - 7s 4ms/step - loss: 0.5820 - accuracy: 0.8046\n",
      "Epoch 37/50\n",
      "1563/1563 [==============================] - 7s 5ms/step - loss: 0.5569 - accuracy: 0.8151\n",
      "Epoch 38/50\n",
      "1563/1563 [==============================] - 7s 4ms/step - loss: 0.5375 - accuracy: 0.8215\n",
      "Epoch 39/50\n",
      "1563/1563 [==============================] - 7s 5ms/step - loss: 0.5120 - accuracy: 0.8297\n",
      "Epoch 40/50\n",
      "1563/1563 [==============================] - 7s 4ms/step - loss: 0.4909 - accuracy: 0.8391\n",
      "Epoch 41/50\n",
      "1563/1563 [==============================] - 7s 5ms/step - loss: 0.4685 - accuracy: 0.8492\n",
      "Epoch 42/50\n",
      "1563/1563 [==============================] - 7s 4ms/step - loss: 0.4457 - accuracy: 0.8543\n",
      "Epoch 43/50\n",
      "1563/1563 [==============================] - 7s 5ms/step - loss: 0.4228 - accuracy: 0.8637\n",
      "Epoch 44/50\n",
      "1563/1563 [==============================] - 7s 5ms/step - loss: 0.4093 - accuracy: 0.8679\n",
      "Epoch 45/50\n",
      "1563/1563 [==============================] - 7s 4ms/step - loss: 0.3865 - accuracy: 0.8785\n",
      "Epoch 46/50\n",
      "1563/1563 [==============================] - 7s 5ms/step - loss: 0.3708 - accuracy: 0.8828\n",
      "Epoch 47/50\n",
      "1563/1563 [==============================] - 7s 4ms/step - loss: 0.3455 - accuracy: 0.8938\n",
      "Epoch 48/50\n",
      "1563/1563 [==============================] - 7s 5ms/step - loss: 0.3302 - accuracy: 0.8988\n",
      "Epoch 49/50\n",
      "1563/1563 [==============================] - 7s 4ms/step - loss: 0.3139 - accuracy: 0.9037\n",
      "Epoch 50/50\n",
      "1563/1563 [==============================] - 7s 5ms/step - loss: 0.2924 - accuracy: 0.9111\n"
     ]
    },
    {
     "data": {
      "text/plain": [
       "<keras.src.callbacks.History at 0x7dd39217a680>"
      ]
     },
     "execution_count": 8,
     "metadata": {},
     "output_type": "execute_result"
    }
   ],
   "source": [
    "model=keras.Sequential([\n",
    "    keras.layers.Flatten(input_shape=(32,32,3)),\n",
    "    keras.layers.Dense(3000,activation='relu'),\n",
    "    keras.layers.Dense(1000,activation='relu'),\n",
    "    keras.layers.Dense(10,activation='sigmoid')\n",
    "])\n",
    "model.compile(optimizer='SGD',\n",
    "              loss=\"sparse_categorical_crossentropy\",\n",
    "              metrics=['accuracy'])\n",
    "model.fit(x_train_scaled,y_train,epochs=50)"
   ]
  },
  {
   "cell_type": "markdown",
   "metadata": {},
   "source": [
    "## Evaluating the model and got horrible accuracy on test data by use of ANN"
   ]
  },
  {
   "cell_type": "code",
   "execution_count": 9,
   "metadata": {
    "colab": {
     "base_uri": "https://localhost:8080/"
    },
    "id": "jd1wGi_OynA0",
    "outputId": "030a2cf8-f5ba-4341-a98e-8dc51be723a1"
   },
   "outputs": [
    {
     "name": "stdout",
     "output_type": "stream",
     "text": [
      "313/313 [==============================] - 1s 4ms/step - loss: 483.9797 - accuracy: 0.4757\n"
     ]
    },
    {
     "data": {
      "text/plain": [
       "[483.979736328125, 0.4756999909877777]"
      ]
     },
     "execution_count": 9,
     "metadata": {},
     "output_type": "execute_result"
    }
   ],
   "source": [
    "model.evaluate(x_test,y_test)"
   ]
  },
  {
   "cell_type": "code",
   "execution_count": 13,
   "metadata": {
    "id": "p6m4b7pHt_hI"
   },
   "outputs": [],
   "source": [
    "from sklearn.metrics import confusion_matrix as cm , classification_report as cr"
   ]
  },
  {
   "cell_type": "code",
   "execution_count": 14,
   "metadata": {
    "colab": {
     "base_uri": "https://localhost:8080/"
    },
    "id": "kVWIqpTKuGvC",
    "outputId": "7cb37f21-694f-4770-ef94-0e57d23d704f"
   },
   "outputs": [
    {
     "name": "stdout",
     "output_type": "stream",
     "text": [
      "313/313 [==============================] - 0s 2ms/step\n"
     ]
    },
    {
     "data": {
      "text/plain": [
       "[0, 0, 0, 0, 3]"
      ]
     },
     "execution_count": 14,
     "metadata": {},
     "output_type": "execute_result"
    }
   ],
   "source": [
    "y_pred=model.predict(x_test)\n",
    "predicted=[np.argmax(i) for i in y_pred]\n",
    "predicted[:5]"
   ]
  },
  {
   "cell_type": "code",
   "execution_count": 15,
   "metadata": {
    "colab": {
     "base_uri": "https://localhost:8080/"
    },
    "id": "3NcepbHsuNMO",
    "outputId": "c95d7834-b2e5-4dfe-bb2f-04da707e8755"
   },
   "outputs": [
    {
     "data": {
      "text/plain": [
       "array([3, 8, 8, 0, 6], dtype=uint8)"
      ]
     },
     "execution_count": 15,
     "metadata": {},
     "output_type": "execute_result"
    }
   ],
   "source": [
    "y_test[:5]"
   ]
  },
  {
   "cell_type": "code",
   "execution_count": 16,
   "metadata": {
    "colab": {
     "base_uri": "https://localhost:8080/"
    },
    "id": "D22MwjnyqUpu",
    "outputId": "f3f6eedb-8bf3-4df6-b0c9-4619f4633a9b"
   },
   "outputs": [
    {
     "name": "stdout",
     "output_type": "stream",
     "text": [
      "              precision    recall  f1-score   support\n",
      "\n",
      "           0       0.13      0.99      0.23      1000\n",
      "           1       0.16      0.10      0.13      1000\n",
      "           2       0.20      0.17      0.19      1000\n",
      "           3       0.23      0.19      0.20      1000\n",
      "           4       0.59      0.02      0.04      1000\n",
      "           5       0.08      0.00      0.01      1000\n",
      "           6       0.50      0.00      0.00      1000\n",
      "           7       0.40      0.00      0.00      1000\n",
      "           8       0.00      0.00      0.00      1000\n",
      "           9       0.00      0.00      0.00      1000\n",
      "\n",
      "    accuracy                           0.15     10000\n",
      "   macro avg       0.23      0.15      0.08     10000\n",
      "weighted avg       0.23      0.15      0.08     10000\n",
      "\n"
     ]
    },
    {
     "name": "stderr",
     "output_type": "stream",
     "text": [
      "/usr/local/lib/python3.10/dist-packages/sklearn/metrics/_classification.py:1344: UndefinedMetricWarning: Precision and F-score are ill-defined and being set to 0.0 in labels with no predicted samples. Use `zero_division` parameter to control this behavior.\n",
      "  _warn_prf(average, modifier, msg_start, len(result))\n",
      "/usr/local/lib/python3.10/dist-packages/sklearn/metrics/_classification.py:1344: UndefinedMetricWarning: Precision and F-score are ill-defined and being set to 0.0 in labels with no predicted samples. Use `zero_division` parameter to control this behavior.\n",
      "  _warn_prf(average, modifier, msg_start, len(result))\n",
      "/usr/local/lib/python3.10/dist-packages/sklearn/metrics/_classification.py:1344: UndefinedMetricWarning: Precision and F-score are ill-defined and being set to 0.0 in labels with no predicted samples. Use `zero_division` parameter to control this behavior.\n",
      "  _warn_prf(average, modifier, msg_start, len(result))\n"
     ]
    }
   ],
   "source": [
    "print(cr(y_test,predicted))"
   ]
  },
  {
   "cell_type": "code",
   "execution_count": 23,
   "metadata": {
    "colab": {
     "base_uri": "https://localhost:8080/",
     "height": 483
    },
    "id": "gktePPns9nZY",
    "outputId": "a618a3e0-b7b7-4a42-bc13-cb806cf2e53f"
   },
   "outputs": [
    {
     "data": {
      "text/plain": [
       "Text(95.72222222222221, 0.5, 'Truth')"
      ]
     },
     "execution_count": 23,
     "metadata": {},
     "output_type": "execute_result"
    },
    {
     "data": {
      "image/png": "[encoded data removed]",
      "text/plain": [
       "<Figure size 1000x500 with 2 Axes>"
      ]
     },
     "metadata": {},
     "output_type": "display_data"
    }
   ],
   "source": [
    "cmm=cm(y_test,predicted)\n",
    "plt.figure(figsize=(10,5))\n",
    "sb.heatmap(cmm,annot=True)\n",
    "plt.xlabel(\"Prediction\")\n",
    "plt.ylabel(\"Truth\")"
   ]
  },
  {
   "cell_type": "markdown",
   "metadata": {},
   "source": [
    "# Classify the images using CNN"
   ]
  },
  {
   "cell_type": "code",
   "execution_count": 24,
   "metadata": {
    "id": "v92C2k8wqb5_"
   },
   "outputs": [],
   "source": [
    "cnn=keras.Sequential([\n",
    "\n",
    "    #CNN\n",
    "    keras.layers.Conv2D(filters=32,kernel_size=(3,3),activation='relu',input_shape=(32,32,3)),\n",
    "    keras.layers.MaxPooling2D((2,2)),\n",
    "\n",
    "    keras.layers.Conv2D(filters=32,kernel_size=(3,3),activation='relu',input_shape=(32,32,3)),\n",
    "    keras.layers.MaxPooling2D((2,2)),\n",
    "    #Dense\n",
    "    keras.layers.Flatten(),\n",
    "    keras.layers.Dense(64,activation='relu'),\n",
    "    keras.layers.Dense(10,activation='softmax')\n",
    "])"
   ]
  },
  {
   "cell_type": "code",
   "execution_count": 25,
   "metadata": {
    "id": "qCqZwUwmtVlZ"
   },
   "outputs": [],
   "source": [
    "cnn.compile(optimizer='adam',loss='sparse_categorical_crossentropy',metrics=['accuracy'])\n"
   ]
  },
  {
   "cell_type": "code",
   "execution_count": 26,
   "metadata": {
    "colab": {
     "base_uri": "https://localhost:8080/"
    },
    "id": "QqrE1pbKtmOe",
    "outputId": "c4fc3acf-b8c4-4440-d5c6-71308e0b326e"
   },
   "outputs": [
    {
     "name": "stdout",
     "output_type": "stream",
     "text": [
      "Epoch 1/20\n",
      "1563/1563 [==============================] - 10s 4ms/step - loss: 1.4627 - accuracy: 0.4722\n",
      "Epoch 2/20\n",
      "1563/1563 [==============================] - 7s 4ms/step - loss: 1.1377 - accuracy: 0.5993\n",
      "Epoch 3/20\n",
      "1563/1563 [==============================] - 6s 4ms/step - loss: 1.0179 - accuracy: 0.6430\n",
      "Epoch 4/20\n",
      "1563/1563 [==============================] - 6s 4ms/step - loss: 0.9442 - accuracy: 0.6680\n",
      "Epoch 5/20\n",
      "1563/1563 [==============================] - 7s 4ms/step - loss: 0.8924 - accuracy: 0.6884\n",
      "Epoch 6/20\n",
      "1563/1563 [==============================] - 6s 4ms/step - loss: 0.8456 - accuracy: 0.7074\n",
      "Epoch 7/20\n",
      "1563/1563 [==============================] - 6s 4ms/step - loss: 0.8075 - accuracy: 0.7176\n",
      "Epoch 8/20\n",
      "1563/1563 [==============================] - 6s 4ms/step - loss: 0.7748 - accuracy: 0.7292\n",
      "Epoch 9/20\n",
      "1563/1563 [==============================] - 6s 4ms/step - loss: 0.7443 - accuracy: 0.7394\n",
      "Epoch 10/20\n",
      "1563/1563 [==============================] - 6s 4ms/step - loss: 0.7144 - accuracy: 0.7497\n",
      "Epoch 11/20\n",
      "1563/1563 [==============================] - 6s 4ms/step - loss: 0.6852 - accuracy: 0.7614\n",
      "Epoch 12/20\n",
      "1563/1563 [==============================] - 6s 4ms/step - loss: 0.6649 - accuracy: 0.7661\n",
      "Epoch 13/20\n",
      "1563/1563 [==============================] - 6s 4ms/step - loss: 0.6369 - accuracy: 0.7755\n",
      "Epoch 14/20\n",
      "1563/1563 [==============================] - 6s 4ms/step - loss: 0.6135 - accuracy: 0.7849\n",
      "Epoch 15/20\n",
      "1563/1563 [==============================] - 6s 4ms/step - loss: 0.5932 - accuracy: 0.7914\n",
      "Epoch 16/20\n",
      "1563/1563 [==============================] - 5s 3ms/step - loss: 0.5714 - accuracy: 0.7992\n",
      "Epoch 17/20\n",
      "1563/1563 [==============================] - 7s 4ms/step - loss: 0.5538 - accuracy: 0.8067\n",
      "Epoch 18/20\n",
      "1563/1563 [==============================] - 6s 4ms/step - loss: 0.5321 - accuracy: 0.8118\n",
      "Epoch 19/20\n",
      "1563/1563 [==============================] - 7s 5ms/step - loss: 0.5143 - accuracy: 0.8178\n",
      "Epoch 20/20\n",
      "1563/1563 [==============================] - 6s 4ms/step - loss: 0.4973 - accuracy: 0.8246\n"
     ]
    },
    {
     "data": {
      "text/plain": [
       "<keras.src.callbacks.History at 0x7dd2ffe810f0>"
      ]
     },
     "execution_count": 26,
     "metadata": {},
     "output_type": "execute_result"
    }
   ],
   "source": [
    "cnn.fit(x_train_scaled,y_train,epochs=20)"
   ]
  },
  {
   "cell_type": "markdown",
   "metadata": {},
   "source": [
    "# Got accuracy of 68 percent on test data which is pretty good"
   ]
  },
  {
   "cell_type": "code",
   "execution_count": 27,
   "metadata": {
    "colab": {
     "base_uri": "https://localhost:8080/"
    },
    "id": "1iekJJq2twpL",
    "outputId": "ba6daeb9-6a63-4b01-8f6b-29492fe17092"
   },
   "outputs": [
    {
     "name": "stdout",
     "output_type": "stream",
     "text": [
      "313/313 [==============================] - 1s 2ms/step - loss: 1.0601 - accuracy: 0.6870\n"
     ]
    },
    {
     "data": {
      "text/plain": [
       "[1.0601247549057007, 0.6869999766349792]"
      ]
     },
     "execution_count": 27,
     "metadata": {},
     "output_type": "execute_result"
    }
   ],
   "source": [
    "cnn.evaluate(x_test_scaled,y_test)"
   ]
  },
  {
   "cell_type": "code",
   "execution_count": 28,
   "metadata": {
    "colab": {
     "base_uri": "https://localhost:8080/"
    },
    "id": "w0TVrm96vgi_",
    "outputId": "798d0af0-1a30-4687-c8d4-2b8f70a8fc15"
   },
   "outputs": [
    {
     "name": "stdout",
     "output_type": "stream",
     "text": [
      "313/313 [==============================] - 1s 2ms/step\n"
     ]
    }
   ],
   "source": [
    "pred=cnn.predict(x_test_scaled)\n",
    "predicted=[np.argmax(i) for i in pred]"
   ]
  },
  {
   "cell_type": "code",
   "execution_count": 29,
   "metadata": {
    "colab": {
     "base_uri": "https://localhost:8080/"
    },
    "id": "FmzgEYIwvsg_",
    "outputId": "9a51967c-6ecb-4b06-e5ae-ccb3b2212c73"
   },
   "outputs": [
    {
     "data": {
      "text/plain": [
       "([3, 8, 8, 0, 6], array([3, 8, 8, 0, 6], dtype=uint8))"
      ]
     },
     "execution_count": 29,
     "metadata": {},
     "output_type": "execute_result"
    }
   ],
   "source": [
    "predicted[:5],y_test[:5]"
   ]
  },
  {
   "cell_type": "markdown",
   "metadata": {},
   "source": [
    "# Got much better value for precision recall and F1 score "
   ]
  },
  {
   "cell_type": "code",
   "execution_count": 30,
   "metadata": {
    "colab": {
     "base_uri": "https://localhost:8080/"
    },
    "id": "23UINFZmvxJz",
    "outputId": "46454751-1bd7-4bec-92db-1cb83ff5fc5d"
   },
   "outputs": [
    {
     "name": "stdout",
     "output_type": "stream",
     "text": [
      "              precision    recall  f1-score   support\n",
      "\n",
      "           0       0.68      0.76      0.72      1000\n",
      "           1       0.80      0.82      0.81      1000\n",
      "           2       0.57      0.55      0.56      1000\n",
      "           3       0.49      0.44      0.47      1000\n",
      "           4       0.64      0.69      0.66      1000\n",
      "           5       0.56      0.62      0.59      1000\n",
      "           6       0.76      0.78      0.77      1000\n",
      "           7       0.73      0.73      0.73      1000\n",
      "           8       0.85      0.74      0.79      1000\n",
      "           9       0.81      0.75      0.78      1000\n",
      "\n",
      "    accuracy                           0.69     10000\n",
      "   macro avg       0.69      0.69      0.69     10000\n",
      "weighted avg       0.69      0.69      0.69     10000\n",
      "\n"
     ]
    }
   ],
   "source": [
    "print(cr(y_test,predicted))"
   ]
  },
  {
   "cell_type": "code",
   "execution_count": 35,
   "metadata": {
    "colab": {
     "base_uri": "https://localhost:8080/",
     "height": 483
    },
    "id": "LMyRCoohw4xg",
    "outputId": "02c69c35-c3eb-4158-88d5-09c2bbf4b3a8"
   },
   "outputs": [
    {
     "data": {
      "text/plain": [
       "Text(95.72222222222221, 0.5, 'Truth')"
      ]
     },
     "execution_count": 35,
     "metadata": {},
     "output_type": "execute_result"
    },
    {
     "data": {
      "image/png": "[encoded data removed]",
      "text/plain": [
       "<Figure size 1000x500 with 2 Axes>"
      ]
     },
     "metadata": {},
     "output_type": "display_data"
    }
   ],
   "source": [
    "cn=cm(y_test,predicted)/10\n",
    "plt.figure(figsize=(10,5))\n",
    "sb.heatmap(cn,annot=True)\n",
    "plt.xlabel(\"Predicted\")\n",
    "plt.ylabel(\"Truth\")"
   ]
  },
  {
   "cell_type": "code",
   "execution_count": null,
   "metadata": {
    "id": "jlT6AX_s_hPk"
   },
   "outputs": [],
   "source": []
  }
 ],
 "metadata": {
  "accelerator": "GPU",
  "colab": {
   "gpuType": "T4",
   "provenance": []
  },
  "kernelspec": {
   "display_name": "Python 3 (ipykernel)",
   "language": "python",
   "name": "python3"
  },
  "language_info": {
   "codemirror_mode": {
    "name": "ipython",
    "version": 3
   },
   "file_extension": ".py",
   "mimetype": "text/x-python",
   "name": "python",
   "nbconvert_exporter": "python",
   "pygments_lexer": "ipython3",
   "version": "3.12.2"
  }
 },
 "nbformat": 4,
 "nbformat_minor": 4
}
